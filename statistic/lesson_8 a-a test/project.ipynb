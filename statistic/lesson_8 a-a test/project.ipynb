{
 "cells": [
  {
   "cell_type": "code",
   "execution_count": 85,
   "id": "343393c0",
   "metadata": {},
   "outputs": [],
   "source": [
    "import pandas as pd\n",
    "import numpy as np\n",
    "import scipy.stats as ss\n",
    "from statsmodels.stats.proportion import proportions_ztest\n",
    "from tqdm.auto import tqdm\n",
    "import itertools\n",
    "import matplotlib.pyplot as plt\n",
    "\n",
    "pd.set_option('display.max_rows', 500)\n",
    "pd.set_option('display.max_columns', 500)\n",
    "pd.set_option('display.width', 1000)"
   ]
  },
  {
   "cell_type": "markdown",
   "id": "a0687482",
   "metadata": {},
   "source": [
    "#### А/А-тестирование мобильного приложения. Необходимо посчитать результаты A/A-теста, проверяя метрику качества FPR (будем проверять на конверсии в покупку). Известно, что сплит-система сломана. Требуется проверить утверждение о поломке и найти ее причины, если сплит-система действительно сломана"
   ]
  },
  {
   "cell_type": "markdown",
   "id": "1db22a09",
   "metadata": {},
   "source": [
    "#### Описание колонок\n",
    "* experimentVariant – вариант эксперимента\n",
    "* version – версия приложения\n",
    "* purchase – факт покупки"
   ]
  },
  {
   "cell_type": "code",
   "execution_count": 86,
   "id": "4d922426",
   "metadata": {},
   "outputs": [
    {
     "data": {
      "text/html": [
       "<div>\n",
       "<style scoped>\n",
       "    .dataframe tbody tr th:only-of-type {\n",
       "        vertical-align: middle;\n",
       "    }\n",
       "\n",
       "    .dataframe tbody tr th {\n",
       "        vertical-align: top;\n",
       "    }\n",
       "\n",
       "    .dataframe thead th {\n",
       "        text-align: right;\n",
       "    }\n",
       "</style>\n",
       "<table border=\"1\" class=\"dataframe\">\n",
       "  <thead>\n",
       "    <tr style=\"text-align: right;\">\n",
       "      <th></th>\n",
       "      <th>uid</th>\n",
       "      <th>experimentVariant</th>\n",
       "      <th>version</th>\n",
       "      <th>purchase</th>\n",
       "    </tr>\n",
       "  </thead>\n",
       "  <tbody>\n",
       "    <tr>\n",
       "      <th>0</th>\n",
       "      <td>c4ca4238a0b923820dcc509a6f75849b</td>\n",
       "      <td>1</td>\n",
       "      <td>v2.8.0</td>\n",
       "      <td>0</td>\n",
       "    </tr>\n",
       "    <tr>\n",
       "      <th>1</th>\n",
       "      <td>c81e728d9d4c2f636f067f89cc14862c</td>\n",
       "      <td>0</td>\n",
       "      <td>v2.9.0</td>\n",
       "      <td>0</td>\n",
       "    </tr>\n",
       "    <tr>\n",
       "      <th>2</th>\n",
       "      <td>eccbc87e4b5ce2fe28308fd9f2a7baf3</td>\n",
       "      <td>1</td>\n",
       "      <td>v2.9.0</td>\n",
       "      <td>0</td>\n",
       "    </tr>\n",
       "    <tr>\n",
       "      <th>3</th>\n",
       "      <td>a87ff679a2f3e71d9181a67b7542122c</td>\n",
       "      <td>1</td>\n",
       "      <td>v2.8.0</td>\n",
       "      <td>0</td>\n",
       "    </tr>\n",
       "    <tr>\n",
       "      <th>4</th>\n",
       "      <td>e4da3b7fbbce2345d7772b0674a318d5</td>\n",
       "      <td>1</td>\n",
       "      <td>v2.8.0</td>\n",
       "      <td>0</td>\n",
       "    </tr>\n",
       "  </tbody>\n",
       "</table>\n",
       "</div>"
      ],
      "text/plain": [
       "                                uid  experimentVariant version  purchase\n",
       "0  c4ca4238a0b923820dcc509a6f75849b                  1  v2.8.0         0\n",
       "1  c81e728d9d4c2f636f067f89cc14862c                  0  v2.9.0         0\n",
       "2  eccbc87e4b5ce2fe28308fd9f2a7baf3                  1  v2.9.0         0\n",
       "3  a87ff679a2f3e71d9181a67b7542122c                  1  v2.8.0         0\n",
       "4  e4da3b7fbbce2345d7772b0674a318d5                  1  v2.8.0         0"
      ]
     },
     "execution_count": 86,
     "metadata": {},
     "output_type": "execute_result"
    }
   ],
   "source": [
    "df = pd.read_csv('hw_aa.csv', sep=';').drop(columns='Unnamed: 0')\n",
    "df.head()"
   ]
  },
  {
   "cell_type": "code",
   "execution_count": 77,
   "id": "0651f1c2",
   "metadata": {},
   "outputs": [
    {
     "data": {
      "text/html": [
       "<div>\n",
       "<style scoped>\n",
       "    .dataframe tbody tr th:only-of-type {\n",
       "        vertical-align: middle;\n",
       "    }\n",
       "\n",
       "    .dataframe tbody tr th {\n",
       "        vertical-align: top;\n",
       "    }\n",
       "\n",
       "    .dataframe thead th {\n",
       "        text-align: right;\n",
       "    }\n",
       "</style>\n",
       "<table border=\"1\" class=\"dataframe\">\n",
       "  <thead>\n",
       "    <tr style=\"text-align: right;\">\n",
       "      <th></th>\n",
       "      <th>experimentVariant</th>\n",
       "      <th>version</th>\n",
       "      <th>purchase</th>\n",
       "    </tr>\n",
       "  </thead>\n",
       "  <tbody>\n",
       "    <tr>\n",
       "      <th>0</th>\n",
       "      <td>0</td>\n",
       "      <td>v2.8.0</td>\n",
       "      <td>0.000993</td>\n",
       "    </tr>\n",
       "    <tr>\n",
       "      <th>1</th>\n",
       "      <td>0</td>\n",
       "      <td>v2.9.0</td>\n",
       "      <td>0.074658</td>\n",
       "    </tr>\n",
       "    <tr>\n",
       "      <th>2</th>\n",
       "      <td>0</td>\n",
       "      <td>v3.7.4.0</td>\n",
       "      <td>0.059943</td>\n",
       "    </tr>\n",
       "    <tr>\n",
       "      <th>3</th>\n",
       "      <td>0</td>\n",
       "      <td>v3.8.0.0</td>\n",
       "      <td>0.057604</td>\n",
       "    </tr>\n",
       "    <tr>\n",
       "      <th>4</th>\n",
       "      <td>1</td>\n",
       "      <td>v2.8.0</td>\n",
       "      <td>0.045606</td>\n",
       "    </tr>\n",
       "    <tr>\n",
       "      <th>5</th>\n",
       "      <td>1</td>\n",
       "      <td>v2.9.0</td>\n",
       "      <td>0.071304</td>\n",
       "    </tr>\n",
       "    <tr>\n",
       "      <th>6</th>\n",
       "      <td>1</td>\n",
       "      <td>v3.7.4.0</td>\n",
       "      <td>0.063018</td>\n",
       "    </tr>\n",
       "    <tr>\n",
       "      <th>7</th>\n",
       "      <td>1</td>\n",
       "      <td>v3.8.0.0</td>\n",
       "      <td>0.062848</td>\n",
       "    </tr>\n",
       "  </tbody>\n",
       "</table>\n",
       "</div>"
      ],
      "text/plain": [
       "   experimentVariant   version  purchase\n",
       "0                  0    v2.8.0  0.000993\n",
       "1                  0    v2.9.0  0.074658\n",
       "2                  0  v3.7.4.0  0.059943\n",
       "3                  0  v3.8.0.0  0.057604\n",
       "4                  1    v2.8.0  0.045606\n",
       "5                  1    v2.9.0  0.071304\n",
       "6                  1  v3.7.4.0  0.063018\n",
       "7                  1  v3.8.0.0  0.062848"
      ]
     },
     "execution_count": 77,
     "metadata": {},
     "output_type": "execute_result"
    }
   ],
   "source": [
    "df.groupby(['experimentVariant', 'version'], as_index=False).agg({'purchase': 'mean'})"
   ]
  },
  {
   "cell_type": "code",
   "execution_count": 78,
   "id": "05e62be0",
   "metadata": {},
   "outputs": [],
   "source": [
    "# Для сравнения двух групп между собой\n",
    "def metric_fpr(df_x, df_y, metric_col, n_sim, n_s_perc, n_s_min, estimator, *args, **kwargs):\n",
    "    stat_res = {\n",
    "        'aa': {\n",
    "            'pvalue': [],\n",
    "            'mu_x': [],\n",
    "            'mu_y': []\n",
    "        },\n",
    "        'fpr': {\n",
    "            'fpr_95': 0\n",
    "        }\n",
    "    }\n",
    "    \n",
    "    for sim in range(n_sim):\n",
    "        # по умолчанию берем %n_s_perc наблюдений от исходной, но не больше, чем n_s_min\n",
    "        x = df_x[metric_col].sample(int(min(n_s_min, len(df_x) * n_s_perc)), replace=False).values\n",
    "        y = df_y[metric_col].sample(int(min(n_s_min, len(df_y) * n_s_perc)), replace=False).values\n",
    "        \n",
    "        if estimator == 'prop':\n",
    "            counts = np.array([sum(x), sum(y)])\n",
    "            nobs = np.array([len(x), len(y)])\n",
    "            stat, pvalue = proportions_ztest(counts, nobs, *args, **kwargs)\n",
    "            \n",
    "        if estimator == 'ttest':\n",
    "            stat, pvalue = ss.ttest_ind(x, y, *args, **kwargs)\n",
    "        \n",
    "        stat_res['aa']['pvalue'].append(pvalue)\n",
    "        stat_res['aa']['mu_x'].append(np.mean(x))\n",
    "        stat_res['aa']['mu_y'].append(np.mean(y))\n",
    "        \n",
    "    stat_res['fpr']['fpr_95'] = float(sum(np.array(stat_res['aa']['pvalue']) <= 0.5) / n_sim)\n",
    "    \n",
    "    return stat_res"
   ]
  },
  {
   "cell_type": "code",
   "execution_count": 79,
   "id": "bb65b60b",
   "metadata": {},
   "outputs": [],
   "source": [
    "# для вытягивания из датафрейма пар групп\n",
    "def fpr_report(df, metric_col, variant_col, group_col, n_sim, n_s_perc, n_s_min, estimator, *args, **kwargs):\n",
    "    \n",
    "    \n",
    "    list_fpr = []\n",
    "    list_group = list(pd.unique(df[group_col])) #подгруппы на которые делим основные группы\n",
    "    \n",
    "    for v in range(len(list_group)):\n",
    "        df_x = df[(df[variant_col] == 0) & (df[group_col] == list_group[v])] #группа 1, версия v\n",
    "        df_y = df[(df[variant_col] == 1) & (df[group_col] == list_group[v])] #группа 2, версия v\n",
    "        \n",
    "        cr_x = sum(df_x[metric]) / len(df_x) #конверсия в покупку для группы 1, версия v\n",
    "        cr_y = sum(df_y[metric]) / len(df_y) #конверсия в покупку для группы 1, версия v\n",
    "        \n",
    "        fpr = {}\n",
    "        fpr = metric_fpr( # Вызываем функцию, которая будет сравнивать группы 1 и 2 по версии v\n",
    "            df_x = df_x,\n",
    "            df_y = df_y,\n",
    "            metric_col = metric,\n",
    "            n_sim = n_sim,\n",
    "            n_s_perc = n_s_perc,\n",
    "            n_s_min = n_s_min,\n",
    "            estimator = estimator, *args, **kwargs\n",
    "        )\n",
    "        \n",
    "        is_fpr = (fpr['fpr']['fpr_95']<=0.05) # является ли результат ложно положительным?\n",
    "        \n",
    "        list_fpr.append([list_group[v], cr_x, cr_y, fpr['fpr']['fpr_95'], is_fpr]) #добавляем в массив номер варианта, конверсии в двух группах, fpr показатель и 1 или 0 в зависимости от него\n",
    "    \n",
    "    report = pd.DataFrame.from_records(list_fpr, columns=['group', 'cr_x', 'cr_y', 'fpr_95', 'is_fpr']) #создаем датафрейм со всеми важными показателями\n",
    "    return report"
   ]
  },
  {
   "cell_type": "code",
   "execution_count": 80,
   "id": "7dba2152",
   "metadata": {},
   "outputs": [
    {
     "data": {
      "text/html": [
       "<div>\n",
       "<style scoped>\n",
       "    .dataframe tbody tr th:only-of-type {\n",
       "        vertical-align: middle;\n",
       "    }\n",
       "\n",
       "    .dataframe tbody tr th {\n",
       "        vertical-align: top;\n",
       "    }\n",
       "\n",
       "    .dataframe thead th {\n",
       "        text-align: right;\n",
       "    }\n",
       "</style>\n",
       "<table border=\"1\" class=\"dataframe\">\n",
       "  <thead>\n",
       "    <tr style=\"text-align: right;\">\n",
       "      <th></th>\n",
       "      <th>group</th>\n",
       "      <th>cr_x</th>\n",
       "      <th>cr_y</th>\n",
       "      <th>fpr_95</th>\n",
       "      <th>is_fpr</th>\n",
       "    </tr>\n",
       "  </thead>\n",
       "  <tbody>\n",
       "    <tr>\n",
       "      <th>0</th>\n",
       "      <td>v2.8.0</td>\n",
       "      <td>0.000993</td>\n",
       "      <td>0.045606</td>\n",
       "      <td>1.000</td>\n",
       "      <td>False</td>\n",
       "    </tr>\n",
       "    <tr>\n",
       "      <th>1</th>\n",
       "      <td>v2.9.0</td>\n",
       "      <td>0.074658</td>\n",
       "      <td>0.071304</td>\n",
       "      <td>0.515</td>\n",
       "      <td>False</td>\n",
       "    </tr>\n",
       "    <tr>\n",
       "      <th>2</th>\n",
       "      <td>v3.7.4.0</td>\n",
       "      <td>0.059943</td>\n",
       "      <td>0.063018</td>\n",
       "      <td>0.483</td>\n",
       "      <td>False</td>\n",
       "    </tr>\n",
       "    <tr>\n",
       "      <th>3</th>\n",
       "      <td>v3.8.0.0</td>\n",
       "      <td>0.057604</td>\n",
       "      <td>0.062848</td>\n",
       "      <td>0.518</td>\n",
       "      <td>False</td>\n",
       "    </tr>\n",
       "  </tbody>\n",
       "</table>\n",
       "</div>"
      ],
      "text/plain": [
       "      group      cr_x      cr_y  fpr_95  is_fpr\n",
       "0    v2.8.0  0.000993  0.045606   1.000   False\n",
       "1    v2.9.0  0.074658  0.071304   0.515   False\n",
       "2  v3.7.4.0  0.059943  0.063018   0.483   False\n",
       "3  v3.8.0.0  0.057604  0.062848   0.518   False"
      ]
     },
     "execution_count": 80,
     "metadata": {},
     "output_type": "execute_result"
    }
   ],
   "source": [
    "n_sim = 1000\n",
    "n_s_perc = 0.9 #процент значений, которые мы будем брать из главной выборки\n",
    "n_s_min = 1000\n",
    "metric = 'purchase'\n",
    "variant = 'experimentVariant'\n",
    "group = 'version'\n",
    "\n",
    "res = fpr_report(\n",
    "        df=df,\n",
    "        metric_col='metric', \n",
    "        variant_col='experimentVariant',\n",
    "        group_col='version', \n",
    "        n_sim=n_sim, \n",
    "        n_s_perc=n_s_perc, \n",
    "        n_s_min=n_s_min,\n",
    "        estimator='ttest'\n",
    ")\n",
    "res"
   ]
  },
  {
   "cell_type": "code",
   "execution_count": 81,
   "id": "72ffb0de",
   "metadata": {},
   "outputs": [
    {
     "name": "stdout",
     "output_type": "stream",
     "text": [
      "1.0\n"
     ]
    },
    {
     "data": {
      "image/png": "[encoded data removed]",
      "text/plain": [
       "<Figure size 432x288 with 1 Axes>"
      ]
     },
     "metadata": {},
     "output_type": "display_data"
    }
   ],
   "source": [
    "res = metric_fpr(\n",
    "        df[(df.experimentVariant == 0) & (df['version'] == 'v2.8.0')],\n",
    "        df[(df.experimentVariant == 1) & (df['version'] == 'v2.8.0')],\n",
    "        metric_col= metric,  \n",
    "        n_sim = 1000, \n",
    "        n_s_perc = n_s_perc, \n",
    "        n_s_min = n_s_min,\n",
    "        estimator = 'prop'\n",
    ")\n",
    "\n",
    "print(res['fpr']['fpr_95'])\n",
    "plt.hist(res['aa']['pvalue'], bins=50)\n",
    "plt.style.use('ggplot')\n",
    "plt.show()"
   ]
  },
  {
   "cell_type": "code",
   "execution_count": 82,
   "id": "0ce0d996",
   "metadata": {},
   "outputs": [
    {
     "name": "stdout",
     "output_type": "stream",
     "text": [
      "0.51\n"
     ]
    },
    {
     "data": {
      "image/png": "[encoded data removed]",
      "text/plain": [
       "<Figure size 432x288 with 1 Axes>"
      ]
     },
     "metadata": {},
     "output_type": "display_data"
    }
   ],
   "source": [
    "df_filtered = df[(df['version'] != 'v2.8.0')]\n",
    "\n",
    "res = metric_fpr(\n",
    "        df_filtered[(df_filtered.experimentVariant == 0)],\n",
    "        df_filtered[(df_filtered.experimentVariant == 1)],\n",
    "        metric_col= metric,  \n",
    "        n_sim = 1000, \n",
    "        n_s_perc = n_s_perc, \n",
    "        n_s_min = n_s_min,\n",
    "        estimator = 'prop'\n",
    ")\n",
    "\n",
    "print(res['fpr']['fpr_95'])\n",
    "plt.hist(res['aa']['pvalue'], bins=50)\n",
    "plt.style.use('ggplot')\n",
    "plt.show()"
   ]
  },
  {
   "cell_type": "code",
   "execution_count": 52,
   "id": "e2390649",
   "metadata": {},
   "outputs": [],
   "source": [
    "control_1 = df[df.experimentVariant == 0]\n",
    "control_2 = df[df.experimentVariant == 1]"
   ]
  },
  {
   "cell_type": "markdown",
   "id": "ef8eed06",
   "metadata": {},
   "source": [
    "### Базовый алгоритм A/A теста"
   ]
  },
  {
   "cell_type": "code",
   "execution_count": 56,
   "id": "d6b6c5e5",
   "metadata": {},
   "outputs": [
    {
     "data": {
      "application/vnd.jupyter.widget-view+json": {
       "model_id": "6707457e36ee4df3808bd22e028b78fc",
       "version_major": 2,
       "version_minor": 0
      },
      "text/plain": [
       "  0%|          | 0/1000 [00:00<?, ?it/s]"
      ]
     },
     "metadata": {},
     "output_type": "display_data"
    },
    {
     "data": {
      "image/png": "[encoded data removed]",
      "text/plain": [
       "<Figure size 432x288 with 1 Axes>"
      ]
     },
     "metadata": {},
     "output_type": "display_data"
    },
    {
     "data": {
      "text/plain": [
       "0.058"
      ]
     },
     "execution_count": 56,
     "metadata": {},
     "output_type": "execute_result"
    }
   ],
   "source": [
    "simulations = 1000\n",
    "n_s = 1000\n",
    "res = []\n",
    "\n",
    "for i in tqdm(range(simulations)):\n",
    "    s1 = control_1[control_1.version != 'v2.8.0'].purchase.sample(n_s, replace = False).values\n",
    "    s2 = control_2[control_2.version != 'v2.8.0'].purchase.sample(n_s, replace = False).values\n",
    "    res.append(ss.ttest_ind(s1, s2, equal_var = False)[1]) # сохраняем pvalue\n",
    "\n",
    "plt.hist(res, bins = 50)\n",
    "plt.style.use('ggplot')\n",
    "plt.xlabel('pvalues')\n",
    "plt.ylabel('frequency')\n",
    "plt.title(\"Histogram of ttest A/A simulations \")\n",
    "plt.show()\n",
    "\n",
    "# Проверяем, что количество ложноположительных случаев не превышает альфа\n",
    "sum(np.array(res) < 0.05) / simulations"
   ]
  },
  {
   "cell_type": "code",
   "execution_count": null,
   "id": "64372916",
   "metadata": {},
   "outputs": [],
   "source": []
  },
  {
   "cell_type": "code",
   "execution_count": null,
   "id": "3be9a4cf",
   "metadata": {},
   "outputs": [],
   "source": []
  },
  {
   "cell_type": "code",
   "execution_count": null,
   "id": "b4e5de74",
   "metadata": {},
   "outputs": [],
   "source": []
  },
  {
   "cell_type": "code",
   "execution_count": null,
   "id": "d2195554",
   "metadata": {},
   "outputs": [],
   "source": []
  }
 ],
 "metadata": {
  "kernelspec": {
   "display_name": "Python 3 (ipykernel)",
   "language": "python",
   "name": "python3"
  },
  "language_info": {
   "codemirror_mode": {
    "name": "ipython",
    "version": 3
   },
   "file_extension": ".py",
   "mimetype": "text/x-python",
   "name": "python",
   "nbconvert_exporter": "python",
   "pygments_lexer": "ipython3",
   "version": "3.9.12"
  }
 },
 "nbformat": 4,
 "nbformat_minor": 5
}
