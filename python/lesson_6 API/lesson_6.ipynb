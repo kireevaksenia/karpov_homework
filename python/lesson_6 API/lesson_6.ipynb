{
 "cells": [
  {
   "cell_type": "code",
   "execution_count": 1,
   "metadata": {},
   "outputs": [],
   "source": [
    "import vk_api\n",
    "import requests\n",
    "import json\n",
    "import random"
   ]
  },
  {
   "cell_type": "code",
   "execution_count": 2,
   "metadata": {},
   "outputs": [],
   "source": [
    "app_token = 'vk1.a.m93EKMrrwv7pZXxi25wH3rKnSioKVtZKvtgmax5I0zFUmIFseErxljIZ_tawJEIPFFzA9Twll5PabyZGksnAV39UQzP0xh3ztr1ajIov0lxXVYfis_7dSesjYCgQ2AzYufQzlbgeAqpKVp9fEyvdt_dQf81lJyx9vujsOKNq-w2PWZbkGa-_-_GN683tgHZD'\n",
    "\n",
    "# id of the 1st chat\n",
    "chat_id = 1\n",
    "\n",
    "# id of my user-receiver\n",
    "my_id = 151209988\n",
    "\n",
    "# Initialize session\n",
    "vk_session = vk_api.VkApi(token=app_token)\n",
    "\n",
    "# Make it possible to use vk api methods as python methods\n",
    "vk = vk_session.get_api()"
   ]
  },
  {
   "cell_type": "code",
   "execution_count": 3,
   "metadata": {},
   "outputs": [
    {
     "data": {
      "text/plain": [
       "13"
      ]
     },
     "execution_count": 3,
     "metadata": {},
     "output_type": "execute_result"
    }
   ],
   "source": [
    "vk.messages.send(\n",
    "    chat_id=chat_id,\n",
    "    random_id=random.randint(1, 2 ** 31),\n",
    "    message='папа привет :)')"
   ]
  },
  {
   "cell_type": "code",
   "execution_count": 4,
   "metadata": {},
   "outputs": [
    {
     "data": {
      "text/plain": [
       "14"
      ]
     },
     "execution_count": 4,
     "metadata": {},
     "output_type": "execute_result"
    }
   ],
   "source": [
    "path_to_file = '/mnt/HC_Volume_18315164/home-jupyter/jupyter-k-kireeva/lesson_7/K_B_KupeeBa.pdf'\n",
    "file_name = 'K_B_KupeeBa.pdf'\n",
    "\n",
    "upload_url = vk.docs.getMessagesUploadServer(peer_id=my_id)[\"upload_url\"]\n",
    "file = {'file': (file_name, open(path_to_file, 'rb'))}\n",
    "\n",
    "# Send request to post this doc on vk.com\n",
    "response = requests.post(upload_url, files=file)\n",
    "\n",
    "json_data = json.loads(response.text)\n",
    "\n",
    "saved_file = vk.docs.save(file=json_data['file'], title=file_name)\n",
    "attachment = 'doc{}_{}'.format(saved_file['doc']['owner_id'], saved_file['doc']['id'])\n",
    "\n",
    "vk.messages.send(\n",
    "    chat_id=chat_id,  # id of chat where to send\n",
    "    random_id=random.randint(1, 2 ** 31),  # random number for message identification\n",
    "    message='Привёз посылку для вашего мальчика!',  # message text, optional here\n",
    "    attachment=attachment)  # attachment name"
   ]
  },
  {
   "cell_type": "code",
   "execution_count": null,
   "metadata": {},
   "outputs": [],
   "source": []
  }
 ],
 "metadata": {
  "kernelspec": {
   "display_name": "Python 3",
   "language": "python",
   "name": "python3"
  },
  "language_info": {
   "codemirror_mode": {
    "name": "ipython",
    "version": 3
   },
   "file_extension": ".py",
   "mimetype": "text/x-python",
   "name": "python",
   "nbconvert_exporter": "python",
   "pygments_lexer": "ipython3",
   "version": "3.7.3"
  }
 },
 "nbformat": 4,
 "nbformat_minor": 4
}
